{
 "cells": [
  {
   "cell_type": "code",
   "execution_count": 3,
   "metadata": {},
   "outputs": [
    {
     "data": {
      "text/plain": [
       "'localhost'"
      ]
     },
     "execution_count": 3,
     "metadata": {},
     "output_type": "execute_result"
    }
   ],
   "source": [
    "import json\n",
    "f = open ('credential.json', \"r\")\n",
    "credential = json.loads(f.read())"
   ]
  },
  {
   "cell_type": "code",
   "execution_count": 6,
   "metadata": {},
   "outputs": [],
   "source": [
    "import pyodbc as po\n",
    " \n",
    "# Connection variables\n",
    "server = credential['server']\n",
    "database = credential['database']\n",
    "username = credential['username']\n",
    "password = credential['password']\n",
    " \n",
    "# Connection string\n",
    "cnxn = po.connect('DRIVER={ODBC Driver 18 for SQL Server};SERVER=' +\n",
    "        server+';DATABASE='+database+';UID='+username+';PWD=' + password + ';TrustServerCertificate=yes')\n",
    "cursor = cnxn.cursor()"
   ]
  },
  {
   "cell_type": "code",
   "execution_count": 7,
   "metadata": {},
   "outputs": [
    {
     "data": {
      "text/plain": [
       "<pyodbc.Cursor at 0x10b227630>"
      ]
     },
     "execution_count": 7,
     "metadata": {},
     "output_type": "execute_result"
    }
   ],
   "source": [
    "cursor.execute(\"SELECT TOP (10) * from call_center\")"
   ]
  },
  {
   "cell_type": "code",
   "execution_count": 8,
   "metadata": {},
   "outputs": [
    {
     "name": "stdout",
     "output_type": "stream",
     "text": [
      "1, AAAAAAAABAAAAAAA, 1998-01-01, \n",
      "2, AAAAAAAACAAAAAAA, 1998-01-01, 2000-12-31\n",
      "3, AAAAAAAACAAAAAAA, 2001-01-01, \n",
      "4, AAAAAAAAEAAAAAAA, 1998-01-01, 2000-01-01\n",
      "5, AAAAAAAAEAAAAAAA, 2000-01-02, 2001-12-31\n",
      "6, AAAAAAAAEAAAAAAA, 2002-01-01, \n"
     ]
    }
   ],
   "source": [
    "row = cursor.fetchone()\n",
    "while row:\n",
    "    # Print the row\n",
    "    print(str(row[0]) + \", \" + str(row[1] or '') + \", \" + str(row[2] or '') + \", \" + str(row[3] or ''))\n",
    "    row = cursor.fetchone()"
   ]
  }
 ],
 "metadata": {
  "kernelspec": {
   "display_name": "Python 3.9.13 ('base')",
   "language": "python",
   "name": "python3"
  },
  "language_info": {
   "codemirror_mode": {
    "name": "ipython",
    "version": 3
   },
   "file_extension": ".py",
   "mimetype": "text/x-python",
   "name": "python",
   "nbconvert_exporter": "python",
   "pygments_lexer": "ipython3",
   "version": "3.9.13"
  },
  "orig_nbformat": 4,
  "vscode": {
   "interpreter": {
    "hash": "d8cf549b0e672e8d5a0d0bf07c69eb35452dc99244258a03bd6dea3cf00f576e"
   }
  }
 },
 "nbformat": 4,
 "nbformat_minor": 2
}
